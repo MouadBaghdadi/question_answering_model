{
 "cells": [
  {
   "cell_type": "code",
   "execution_count": 70,
   "metadata": {},
   "outputs": [],
   "source": [
    "import pandas as pd\n",
    "import numpy as np\n",
    "from tqdm import tqdm\n",
    "import matplotlib.pyplot as plt\n",
    "import seaborn as sns\n",
    "import random"
   ]
  },
  {
   "cell_type": "code",
   "execution_count": 46,
   "metadata": {},
   "outputs": [
    {
     "data": {
      "text/html": [
       "<div>\n",
       "<style scoped>\n",
       "    .dataframe tbody tr th:only-of-type {\n",
       "        vertical-align: middle;\n",
       "    }\n",
       "\n",
       "    .dataframe tbody tr th {\n",
       "        vertical-align: top;\n",
       "    }\n",
       "\n",
       "    .dataframe thead th {\n",
       "        text-align: right;\n",
       "    }\n",
       "</style>\n",
       "<table border=\"1\" class=\"dataframe\">\n",
       "  <thead>\n",
       "    <tr style=\"text-align: right;\">\n",
       "      <th></th>\n",
       "      <th>data</th>\n",
       "    </tr>\n",
       "  </thead>\n",
       "  <tbody>\n",
       "    <tr>\n",
       "      <th>0</th>\n",
       "      <td>{'title': 'Beyoncé', 'paragraphs': [{'qas': [{...</td>\n",
       "    </tr>\n",
       "    <tr>\n",
       "      <th>1</th>\n",
       "      <td>{'title': 'Frédéric_Chopin', 'paragraphs': [{'...</td>\n",
       "    </tr>\n",
       "    <tr>\n",
       "      <th>2</th>\n",
       "      <td>{'title': 'Sino-Tibetan_relations_during_the_M...</td>\n",
       "    </tr>\n",
       "    <tr>\n",
       "      <th>3</th>\n",
       "      <td>{'title': 'IPod', 'paragraphs': [{'qas': [{'qu...</td>\n",
       "    </tr>\n",
       "    <tr>\n",
       "      <th>4</th>\n",
       "      <td>{'title': 'The_Legend_of_Zelda:_Twilight_Princ...</td>\n",
       "    </tr>\n",
       "    <tr>\n",
       "      <th>...</th>\n",
       "      <td>...</td>\n",
       "    </tr>\n",
       "    <tr>\n",
       "      <th>437</th>\n",
       "      <td>{'title': 'Infection', 'paragraphs': [{'qas': ...</td>\n",
       "    </tr>\n",
       "    <tr>\n",
       "      <th>438</th>\n",
       "      <td>{'title': 'Hunting', 'paragraphs': [{'qas': [{...</td>\n",
       "    </tr>\n",
       "    <tr>\n",
       "      <th>439</th>\n",
       "      <td>{'title': 'Kathmandu', 'paragraphs': [{'qas': ...</td>\n",
       "    </tr>\n",
       "    <tr>\n",
       "      <th>440</th>\n",
       "      <td>{'title': 'Myocardial_infarction', 'paragraphs...</td>\n",
       "    </tr>\n",
       "    <tr>\n",
       "      <th>441</th>\n",
       "      <td>{'title': 'Matter', 'paragraphs': [{'qas': [{'...</td>\n",
       "    </tr>\n",
       "  </tbody>\n",
       "</table>\n",
       "<p>442 rows × 1 columns</p>\n",
       "</div>"
      ],
      "text/plain": [
       "                                                  data\n",
       "0    {'title': 'Beyoncé', 'paragraphs': [{'qas': [{...\n",
       "1    {'title': 'Frédéric_Chopin', 'paragraphs': [{'...\n",
       "2    {'title': 'Sino-Tibetan_relations_during_the_M...\n",
       "3    {'title': 'IPod', 'paragraphs': [{'qas': [{'qu...\n",
       "4    {'title': 'The_Legend_of_Zelda:_Twilight_Princ...\n",
       "..                                                 ...\n",
       "437  {'title': 'Infection', 'paragraphs': [{'qas': ...\n",
       "438  {'title': 'Hunting', 'paragraphs': [{'qas': [{...\n",
       "439  {'title': 'Kathmandu', 'paragraphs': [{'qas': ...\n",
       "440  {'title': 'Myocardial_infarction', 'paragraphs...\n",
       "441  {'title': 'Matter', 'paragraphs': [{'qas': [{'...\n",
       "\n",
       "[442 rows x 1 columns]"
      ]
     },
     "execution_count": 46,
     "metadata": {},
     "output_type": "execute_result"
    }
   ],
   "source": [
    "df = pd.read_json('train-v2.0.json')\n",
    "df.drop('version', axis=1 , inplace=True)\n",
    "df"
   ]
  },
  {
   "cell_type": "code",
   "execution_count": 47,
   "metadata": {},
   "outputs": [
    {
     "data": {
      "text/plain": [
       "'Beyoncé Giselle Knowles-Carter (/biːˈjɒnseɪ/ bee-YON-say) (born September 4, 1981) is an American singer, songwriter, record producer and actress. Born and raised in Houston, Texas, she performed in various singing and dancing competitions as a child, and rose to fame in the late 1990s as lead singer of R&B girl-group Destiny\\'s Child. Managed by her father, Mathew Knowles, the group became one of the world\\'s best-selling girl groups of all time. Their hiatus saw the release of Beyoncé\\'s debut album, Dangerously in Love (2003), which established her as a solo artist worldwide, earned five Grammy Awards and featured the Billboard Hot 100 number-one singles \"Crazy in Love\" and \"Baby Boy\".'"
      ]
     },
     "execution_count": 47,
     "metadata": {},
     "output_type": "execute_result"
    }
   ],
   "source": [
    "df['data'][0]['paragraphs'][0]['context']"
   ]
  },
  {
   "cell_type": "code",
   "execution_count": 48,
   "metadata": {},
   "outputs": [
    {
     "data": {
      "text/plain": [
       "'Houston, Texas'"
      ]
     },
     "execution_count": 48,
     "metadata": {},
     "output_type": "execute_result"
    }
   ],
   "source": [
    "df['data'][0]['paragraphs'][0]['qas'][3]['answers'][0]['text']"
   ]
  },
  {
   "cell_type": "code",
   "execution_count": 49,
   "metadata": {},
   "outputs": [
    {
     "data": {
      "text/plain": [
       "\"What was the name of Beyoncé's first solo album?\""
      ]
     },
     "execution_count": 49,
     "metadata": {},
     "output_type": "execute_result"
    }
   ],
   "source": [
    "df['data'][0]['paragraphs'][0]['qas'][14]['question']"
   ]
  },
  {
   "cell_type": "code",
   "execution_count": 50,
   "metadata": {},
   "outputs": [],
   "source": [
    "data = pd.DataFrame(columns=['context', 'question', 'answer'])"
   ]
  },
  {
   "cell_type": "code",
   "execution_count": 51,
   "metadata": {},
   "outputs": [
    {
     "name": "stderr",
     "output_type": "stream",
     "text": [
      "Processing: 100%|██████████| 442/442 [00:07<00:00, 56.15it/s]\n"
     ]
    }
   ],
   "source": [
    "k = 0\n",
    "for i in tqdm(range(len(df)),desc=\"Processing\"):\n",
    "    for j in range(len(df['data'][i]['paragraphs'][0]['qas'])):\n",
    "        data_raw = {'context': df['data'][i]['paragraphs'][0]['context'],\n",
    "                    'question': df['data'][i]['paragraphs'][0]['qas'][j]['question'],\n",
    "                    'answer': df['data'][i]['paragraphs'][0]['qas'][j]['answers'][0]['text'] if df['data'][i]['paragraphs'][0]['qas'][j]['answers'] else None}\n",
    "        data.loc[k] = data_raw\n",
    "        k += 1\n",
    " "
   ]
  },
  {
   "cell_type": "code",
   "execution_count": 52,
   "metadata": {},
   "outputs": [
    {
     "data": {
      "text/html": [
       "<div>\n",
       "<style scoped>\n",
       "    .dataframe tbody tr th:only-of-type {\n",
       "        vertical-align: middle;\n",
       "    }\n",
       "\n",
       "    .dataframe tbody tr th {\n",
       "        vertical-align: top;\n",
       "    }\n",
       "\n",
       "    .dataframe thead th {\n",
       "        text-align: right;\n",
       "    }\n",
       "</style>\n",
       "<table border=\"1\" class=\"dataframe\">\n",
       "  <thead>\n",
       "    <tr style=\"text-align: right;\">\n",
       "      <th></th>\n",
       "      <th>context</th>\n",
       "      <th>question</th>\n",
       "      <th>answer</th>\n",
       "    </tr>\n",
       "  </thead>\n",
       "  <tbody>\n",
       "    <tr>\n",
       "      <th>0</th>\n",
       "      <td>Beyoncé Giselle Knowles-Carter (/biːˈjɒnseɪ/ b...</td>\n",
       "      <td>When did Beyonce start becoming popular?</td>\n",
       "      <td>in the late 1990s</td>\n",
       "    </tr>\n",
       "    <tr>\n",
       "      <th>1</th>\n",
       "      <td>Beyoncé Giselle Knowles-Carter (/biːˈjɒnseɪ/ b...</td>\n",
       "      <td>What areas did Beyonce compete in when she was...</td>\n",
       "      <td>singing and dancing</td>\n",
       "    </tr>\n",
       "    <tr>\n",
       "      <th>2</th>\n",
       "      <td>Beyoncé Giselle Knowles-Carter (/biːˈjɒnseɪ/ b...</td>\n",
       "      <td>When did Beyonce leave Destiny's Child and bec...</td>\n",
       "      <td>2003</td>\n",
       "    </tr>\n",
       "    <tr>\n",
       "      <th>3</th>\n",
       "      <td>Beyoncé Giselle Knowles-Carter (/biːˈjɒnseɪ/ b...</td>\n",
       "      <td>In what city and state did Beyonce  grow up?</td>\n",
       "      <td>Houston, Texas</td>\n",
       "    </tr>\n",
       "    <tr>\n",
       "      <th>4</th>\n",
       "      <td>Beyoncé Giselle Knowles-Carter (/biːˈjɒnseɪ/ b...</td>\n",
       "      <td>In which decade did Beyonce become famous?</td>\n",
       "      <td>late 1990s</td>\n",
       "    </tr>\n",
       "    <tr>\n",
       "      <th>...</th>\n",
       "      <td>...</td>\n",
       "      <td>...</td>\n",
       "      <td>...</td>\n",
       "    </tr>\n",
       "    <tr>\n",
       "      <th>3855</th>\n",
       "      <td>Before the 20th century, the term matter inclu...</td>\n",
       "      <td>What did the term matter include after the 20t...</td>\n",
       "      <td>None</td>\n",
       "    </tr>\n",
       "    <tr>\n",
       "      <th>3856</th>\n",
       "      <td>Before the 20th century, the term matter inclu...</td>\n",
       "      <td>What are atoms composed of?</td>\n",
       "      <td>None</td>\n",
       "    </tr>\n",
       "    <tr>\n",
       "      <th>3857</th>\n",
       "      <td>Before the 20th century, the term matter inclu...</td>\n",
       "      <td>What are two examples of matter?</td>\n",
       "      <td>None</td>\n",
       "    </tr>\n",
       "    <tr>\n",
       "      <th>3858</th>\n",
       "      <td>Before the 20th century, the term matter inclu...</td>\n",
       "      <td>What can an object's mass not come from?</td>\n",
       "      <td>None</td>\n",
       "    </tr>\n",
       "    <tr>\n",
       "      <th>3859</th>\n",
       "      <td>Before the 20th century, the term matter inclu...</td>\n",
       "      <td>Matter is currently considered to be what kind...</td>\n",
       "      <td>None</td>\n",
       "    </tr>\n",
       "  </tbody>\n",
       "</table>\n",
       "<p>3860 rows × 3 columns</p>\n",
       "</div>"
      ],
      "text/plain": [
       "                                                context  \\\n",
       "0     Beyoncé Giselle Knowles-Carter (/biːˈjɒnseɪ/ b...   \n",
       "1     Beyoncé Giselle Knowles-Carter (/biːˈjɒnseɪ/ b...   \n",
       "2     Beyoncé Giselle Knowles-Carter (/biːˈjɒnseɪ/ b...   \n",
       "3     Beyoncé Giselle Knowles-Carter (/biːˈjɒnseɪ/ b...   \n",
       "4     Beyoncé Giselle Knowles-Carter (/biːˈjɒnseɪ/ b...   \n",
       "...                                                 ...   \n",
       "3855  Before the 20th century, the term matter inclu...   \n",
       "3856  Before the 20th century, the term matter inclu...   \n",
       "3857  Before the 20th century, the term matter inclu...   \n",
       "3858  Before the 20th century, the term matter inclu...   \n",
       "3859  Before the 20th century, the term matter inclu...   \n",
       "\n",
       "                                               question               answer  \n",
       "0              When did Beyonce start becoming popular?    in the late 1990s  \n",
       "1     What areas did Beyonce compete in when she was...  singing and dancing  \n",
       "2     When did Beyonce leave Destiny's Child and bec...                 2003  \n",
       "3         In what city and state did Beyonce  grow up?        Houston, Texas  \n",
       "4            In which decade did Beyonce become famous?           late 1990s  \n",
       "...                                                 ...                  ...  \n",
       "3855  What did the term matter include after the 20t...                 None  \n",
       "3856                        What are atoms composed of?                 None  \n",
       "3857                   What are two examples of matter?                 None  \n",
       "3858           What can an object's mass not come from?                 None  \n",
       "3859  Matter is currently considered to be what kind...                 None  \n",
       "\n",
       "[3860 rows x 3 columns]"
      ]
     },
     "execution_count": 52,
     "metadata": {},
     "output_type": "execute_result"
    }
   ],
   "source": [
    "data"
   ]
  },
  {
   "cell_type": "code",
   "execution_count": 60,
   "metadata": {},
   "outputs": [],
   "source": [
    "data.dropna(subset=['answer'], inplace=True)\n",
    "data.reset_index(drop=True, inplace=True)"
   ]
  },
  {
   "cell_type": "code",
   "execution_count": 61,
   "metadata": {},
   "outputs": [
    {
     "data": {
      "text/html": [
       "<div>\n",
       "<style scoped>\n",
       "    .dataframe tbody tr th:only-of-type {\n",
       "        vertical-align: middle;\n",
       "    }\n",
       "\n",
       "    .dataframe tbody tr th {\n",
       "        vertical-align: top;\n",
       "    }\n",
       "\n",
       "    .dataframe thead th {\n",
       "        text-align: right;\n",
       "    }\n",
       "</style>\n",
       "<table border=\"1\" class=\"dataframe\">\n",
       "  <thead>\n",
       "    <tr style=\"text-align: right;\">\n",
       "      <th></th>\n",
       "      <th>context</th>\n",
       "      <th>question</th>\n",
       "      <th>answer</th>\n",
       "    </tr>\n",
       "  </thead>\n",
       "  <tbody>\n",
       "    <tr>\n",
       "      <th>0</th>\n",
       "      <td>Beyoncé Giselle Knowles-Carter (/biːˈjɒnseɪ/ b...</td>\n",
       "      <td>When did Beyonce start becoming popular?</td>\n",
       "      <td>in the late 1990s</td>\n",
       "    </tr>\n",
       "    <tr>\n",
       "      <th>1</th>\n",
       "      <td>Beyoncé Giselle Knowles-Carter (/biːˈjɒnseɪ/ b...</td>\n",
       "      <td>What areas did Beyonce compete in when she was...</td>\n",
       "      <td>singing and dancing</td>\n",
       "    </tr>\n",
       "    <tr>\n",
       "      <th>2</th>\n",
       "      <td>Beyoncé Giselle Knowles-Carter (/biːˈjɒnseɪ/ b...</td>\n",
       "      <td>When did Beyonce leave Destiny's Child and bec...</td>\n",
       "      <td>2003</td>\n",
       "    </tr>\n",
       "    <tr>\n",
       "      <th>3</th>\n",
       "      <td>Beyoncé Giselle Knowles-Carter (/biːˈjɒnseɪ/ b...</td>\n",
       "      <td>In what city and state did Beyonce  grow up?</td>\n",
       "      <td>Houston, Texas</td>\n",
       "    </tr>\n",
       "    <tr>\n",
       "      <th>4</th>\n",
       "      <td>Beyoncé Giselle Knowles-Carter (/biːˈjɒnseɪ/ b...</td>\n",
       "      <td>In which decade did Beyonce become famous?</td>\n",
       "      <td>late 1990s</td>\n",
       "    </tr>\n",
       "    <tr>\n",
       "      <th>...</th>\n",
       "      <td>...</td>\n",
       "      <td>...</td>\n",
       "      <td>...</td>\n",
       "    </tr>\n",
       "    <tr>\n",
       "      <th>2344</th>\n",
       "      <td>Kathmandu(/ˌkɑːtmɑːnˈduː/; Nepali pronunciatio...</td>\n",
       "      <td>What country is Kathmandu the capital of?</td>\n",
       "      <td>Nepal</td>\n",
       "    </tr>\n",
       "    <tr>\n",
       "      <th>2345</th>\n",
       "      <td>Kathmandu(/ˌkɑːtmɑːnˈduː/; Nepali pronunciatio...</td>\n",
       "      <td>What does Upa-Mahanagar mean in English?</td>\n",
       "      <td>Sub-Metropolitan City</td>\n",
       "    </tr>\n",
       "    <tr>\n",
       "      <th>2346</th>\n",
       "      <td>Kathmandu(/ˌkɑːtmɑːnˈduː/; Nepali pronunciatio...</td>\n",
       "      <td>Along with \"KTM,\" what is another nickname of ...</td>\n",
       "      <td>tri-city</td>\n",
       "    </tr>\n",
       "    <tr>\n",
       "      <th>2347</th>\n",
       "      <td>Kathmandu(/ˌkɑːtmɑːnˈduː/; Nepali pronunciatio...</td>\n",
       "      <td>How many people lived in Kathmandu in 2011?</td>\n",
       "      <td>975,453</td>\n",
       "    </tr>\n",
       "    <tr>\n",
       "      <th>2348</th>\n",
       "      <td>Kathmandu(/ˌkɑːtmɑːnˈduː/; Nepali pronunciatio...</td>\n",
       "      <td>How many square kilometers in size is Kathmandu?</td>\n",
       "      <td>49.45</td>\n",
       "    </tr>\n",
       "  </tbody>\n",
       "</table>\n",
       "<p>2349 rows × 3 columns</p>\n",
       "</div>"
      ],
      "text/plain": [
       "                                                context  \\\n",
       "0     Beyoncé Giselle Knowles-Carter (/biːˈjɒnseɪ/ b...   \n",
       "1     Beyoncé Giselle Knowles-Carter (/biːˈjɒnseɪ/ b...   \n",
       "2     Beyoncé Giselle Knowles-Carter (/biːˈjɒnseɪ/ b...   \n",
       "3     Beyoncé Giselle Knowles-Carter (/biːˈjɒnseɪ/ b...   \n",
       "4     Beyoncé Giselle Knowles-Carter (/biːˈjɒnseɪ/ b...   \n",
       "...                                                 ...   \n",
       "2344  Kathmandu(/ˌkɑːtmɑːnˈduː/; Nepali pronunciatio...   \n",
       "2345  Kathmandu(/ˌkɑːtmɑːnˈduː/; Nepali pronunciatio...   \n",
       "2346  Kathmandu(/ˌkɑːtmɑːnˈduː/; Nepali pronunciatio...   \n",
       "2347  Kathmandu(/ˌkɑːtmɑːnˈduː/; Nepali pronunciatio...   \n",
       "2348  Kathmandu(/ˌkɑːtmɑːnˈduː/; Nepali pronunciatio...   \n",
       "\n",
       "                                               question                 answer  \n",
       "0              When did Beyonce start becoming popular?      in the late 1990s  \n",
       "1     What areas did Beyonce compete in when she was...    singing and dancing  \n",
       "2     When did Beyonce leave Destiny's Child and bec...                   2003  \n",
       "3         In what city and state did Beyonce  grow up?          Houston, Texas  \n",
       "4            In which decade did Beyonce become famous?             late 1990s  \n",
       "...                                                 ...                    ...  \n",
       "2344          What country is Kathmandu the capital of?                  Nepal  \n",
       "2345           What does Upa-Mahanagar mean in English?  Sub-Metropolitan City  \n",
       "2346  Along with \"KTM,\" what is another nickname of ...               tri-city  \n",
       "2347        How many people lived in Kathmandu in 2011?                975,453  \n",
       "2348   How many square kilometers in size is Kathmandu?                  49.45  \n",
       "\n",
       "[2349 rows x 3 columns]"
      ]
     },
     "execution_count": 61,
     "metadata": {},
     "output_type": "execute_result"
    }
   ],
   "source": [
    "data"
   ]
  },
  {
   "cell_type": "code",
   "execution_count": 62,
   "metadata": {},
   "outputs": [],
   "source": [
    "def get_start_end_idx(raw):\n",
    "    if raw['answer']:\n",
    "        str_idx = raw['context'].find(raw['answer'])\n",
    "        end_idx = str_idx + len(raw['answer'])\n",
    "        return {'str_idx':str_idx,\n",
    "          'end_idx': end_idx}\n",
    "    else: \n",
    "        return {'str_idx':None,\n",
    "          'end_idx': None}"
   ]
  },
  {
   "cell_type": "code",
   "execution_count": 63,
   "metadata": {},
   "outputs": [
    {
     "data": {
      "text/plain": [
       "'Beyoncé Giselle Knowles-Carter (/biːˈjɒnseɪ/ bee-YON-say) (born September 4, 1981) is an American singer, songwriter, record producer and actress. Born and raised in Houston, Texas, she performed in various singing and dancing competitions as a child, and rose to fame in the late 1990s as lead singer of R&B girl-group Destiny\\'s Child. Managed by her father, Mathew Knowles, the group became one of the world\\'s best-selling girl groups of all time. Their hiatus saw the release of Beyoncé\\'s debut album, Dangerously in Love (2003), which established her as a solo artist worldwide, earned five Grammy Awards and featured the Billboard Hot 100 number-one singles \"Crazy in Love\" and \"Baby Boy\".'"
      ]
     },
     "execution_count": 63,
     "metadata": {},
     "output_type": "execute_result"
    }
   ],
   "source": [
    "a = data.iloc[0].to_dict()\n",
    "a['context']"
   ]
  },
  {
   "cell_type": "code",
   "execution_count": 64,
   "metadata": {},
   "outputs": [
    {
     "data": {
      "text/plain": [
       "{'str_idx': 269, 'end_idx': 286}"
      ]
     },
     "execution_count": 64,
     "metadata": {},
     "output_type": "execute_result"
    }
   ],
   "source": [
    "get_start_end_idx(a)"
   ]
  },
  {
   "cell_type": "code",
   "execution_count": 65,
   "metadata": {},
   "outputs": [],
   "source": [
    "ids_df = pd.DataFrame(columns=['str_idx', 'end_idx'])\n",
    "for i in range(len(data)):\n",
    "    raw = data.iloc[i].to_dict()\n",
    "    ids_df.loc[i] = get_start_end_idx(raw)"
   ]
  },
  {
   "cell_type": "code",
   "execution_count": 66,
   "metadata": {},
   "outputs": [
    {
     "data": {
      "text/html": [
       "<div>\n",
       "<style scoped>\n",
       "    .dataframe tbody tr th:only-of-type {\n",
       "        vertical-align: middle;\n",
       "    }\n",
       "\n",
       "    .dataframe tbody tr th {\n",
       "        vertical-align: top;\n",
       "    }\n",
       "\n",
       "    .dataframe thead th {\n",
       "        text-align: right;\n",
       "    }\n",
       "</style>\n",
       "<table border=\"1\" class=\"dataframe\">\n",
       "  <thead>\n",
       "    <tr style=\"text-align: right;\">\n",
       "      <th></th>\n",
       "      <th>str_idx</th>\n",
       "      <th>end_idx</th>\n",
       "    </tr>\n",
       "  </thead>\n",
       "  <tbody>\n",
       "    <tr>\n",
       "      <th>0</th>\n",
       "      <td>269</td>\n",
       "      <td>286</td>\n",
       "    </tr>\n",
       "    <tr>\n",
       "      <th>1</th>\n",
       "      <td>207</td>\n",
       "      <td>226</td>\n",
       "    </tr>\n",
       "    <tr>\n",
       "      <th>2</th>\n",
       "      <td>526</td>\n",
       "      <td>530</td>\n",
       "    </tr>\n",
       "    <tr>\n",
       "      <th>3</th>\n",
       "      <td>166</td>\n",
       "      <td>180</td>\n",
       "    </tr>\n",
       "    <tr>\n",
       "      <th>4</th>\n",
       "      <td>276</td>\n",
       "      <td>286</td>\n",
       "    </tr>\n",
       "    <tr>\n",
       "      <th>...</th>\n",
       "      <td>...</td>\n",
       "      <td>...</td>\n",
       "    </tr>\n",
       "    <tr>\n",
       "      <th>2344</th>\n",
       "      <td>27</td>\n",
       "      <td>32</td>\n",
       "    </tr>\n",
       "    <tr>\n",
       "      <th>2345</th>\n",
       "      <td>332</td>\n",
       "      <td>353</td>\n",
       "    </tr>\n",
       "    <tr>\n",
       "      <th>2346</th>\n",
       "      <td>615</td>\n",
       "      <td>623</td>\n",
       "    </tr>\n",
       "    <tr>\n",
       "      <th>2347</th>\n",
       "      <td>704</td>\n",
       "      <td>711</td>\n",
       "    </tr>\n",
       "    <tr>\n",
       "      <th>2348</th>\n",
       "      <td>725</td>\n",
       "      <td>730</td>\n",
       "    </tr>\n",
       "  </tbody>\n",
       "</table>\n",
       "<p>2349 rows × 2 columns</p>\n",
       "</div>"
      ],
      "text/plain": [
       "      str_idx  end_idx\n",
       "0         269      286\n",
       "1         207      226\n",
       "2         526      530\n",
       "3         166      180\n",
       "4         276      286\n",
       "...       ...      ...\n",
       "2344       27       32\n",
       "2345      332      353\n",
       "2346      615      623\n",
       "2347      704      711\n",
       "2348      725      730\n",
       "\n",
       "[2349 rows x 2 columns]"
      ]
     },
     "execution_count": 66,
     "metadata": {},
     "output_type": "execute_result"
    }
   ],
   "source": [
    "ids_df"
   ]
  },
  {
   "cell_type": "code",
   "execution_count": 67,
   "metadata": {},
   "outputs": [],
   "source": [
    "data = pd.concat([data, ids_df], axis=1)"
   ]
  },
  {
   "cell_type": "code",
   "execution_count": 68,
   "metadata": {},
   "outputs": [
    {
     "data": {
      "text/html": [
       "<div>\n",
       "<style scoped>\n",
       "    .dataframe tbody tr th:only-of-type {\n",
       "        vertical-align: middle;\n",
       "    }\n",
       "\n",
       "    .dataframe tbody tr th {\n",
       "        vertical-align: top;\n",
       "    }\n",
       "\n",
       "    .dataframe thead th {\n",
       "        text-align: right;\n",
       "    }\n",
       "</style>\n",
       "<table border=\"1\" class=\"dataframe\">\n",
       "  <thead>\n",
       "    <tr style=\"text-align: right;\">\n",
       "      <th></th>\n",
       "      <th>context</th>\n",
       "      <th>question</th>\n",
       "      <th>answer</th>\n",
       "      <th>str_idx</th>\n",
       "      <th>end_idx</th>\n",
       "    </tr>\n",
       "  </thead>\n",
       "  <tbody>\n",
       "    <tr>\n",
       "      <th>0</th>\n",
       "      <td>Beyoncé Giselle Knowles-Carter (/biːˈjɒnseɪ/ b...</td>\n",
       "      <td>When did Beyonce start becoming popular?</td>\n",
       "      <td>in the late 1990s</td>\n",
       "      <td>269</td>\n",
       "      <td>286</td>\n",
       "    </tr>\n",
       "    <tr>\n",
       "      <th>1</th>\n",
       "      <td>Beyoncé Giselle Knowles-Carter (/biːˈjɒnseɪ/ b...</td>\n",
       "      <td>What areas did Beyonce compete in when she was...</td>\n",
       "      <td>singing and dancing</td>\n",
       "      <td>207</td>\n",
       "      <td>226</td>\n",
       "    </tr>\n",
       "    <tr>\n",
       "      <th>2</th>\n",
       "      <td>Beyoncé Giselle Knowles-Carter (/biːˈjɒnseɪ/ b...</td>\n",
       "      <td>When did Beyonce leave Destiny's Child and bec...</td>\n",
       "      <td>2003</td>\n",
       "      <td>526</td>\n",
       "      <td>530</td>\n",
       "    </tr>\n",
       "    <tr>\n",
       "      <th>3</th>\n",
       "      <td>Beyoncé Giselle Knowles-Carter (/biːˈjɒnseɪ/ b...</td>\n",
       "      <td>In what city and state did Beyonce  grow up?</td>\n",
       "      <td>Houston, Texas</td>\n",
       "      <td>166</td>\n",
       "      <td>180</td>\n",
       "    </tr>\n",
       "    <tr>\n",
       "      <th>4</th>\n",
       "      <td>Beyoncé Giselle Knowles-Carter (/biːˈjɒnseɪ/ b...</td>\n",
       "      <td>In which decade did Beyonce become famous?</td>\n",
       "      <td>late 1990s</td>\n",
       "      <td>276</td>\n",
       "      <td>286</td>\n",
       "    </tr>\n",
       "    <tr>\n",
       "      <th>...</th>\n",
       "      <td>...</td>\n",
       "      <td>...</td>\n",
       "      <td>...</td>\n",
       "      <td>...</td>\n",
       "      <td>...</td>\n",
       "    </tr>\n",
       "    <tr>\n",
       "      <th>2344</th>\n",
       "      <td>Kathmandu(/ˌkɑːtmɑːnˈduː/; Nepali pronunciatio...</td>\n",
       "      <td>What country is Kathmandu the capital of?</td>\n",
       "      <td>Nepal</td>\n",
       "      <td>27</td>\n",
       "      <td>32</td>\n",
       "    </tr>\n",
       "    <tr>\n",
       "      <th>2345</th>\n",
       "      <td>Kathmandu(/ˌkɑːtmɑːnˈduː/; Nepali pronunciatio...</td>\n",
       "      <td>What does Upa-Mahanagar mean in English?</td>\n",
       "      <td>Sub-Metropolitan City</td>\n",
       "      <td>332</td>\n",
       "      <td>353</td>\n",
       "    </tr>\n",
       "    <tr>\n",
       "      <th>2346</th>\n",
       "      <td>Kathmandu(/ˌkɑːtmɑːnˈduː/; Nepali pronunciatio...</td>\n",
       "      <td>Along with \"KTM,\" what is another nickname of ...</td>\n",
       "      <td>tri-city</td>\n",
       "      <td>615</td>\n",
       "      <td>623</td>\n",
       "    </tr>\n",
       "    <tr>\n",
       "      <th>2347</th>\n",
       "      <td>Kathmandu(/ˌkɑːtmɑːnˈduː/; Nepali pronunciatio...</td>\n",
       "      <td>How many people lived in Kathmandu in 2011?</td>\n",
       "      <td>975,453</td>\n",
       "      <td>704</td>\n",
       "      <td>711</td>\n",
       "    </tr>\n",
       "    <tr>\n",
       "      <th>2348</th>\n",
       "      <td>Kathmandu(/ˌkɑːtmɑːnˈduː/; Nepali pronunciatio...</td>\n",
       "      <td>How many square kilometers in size is Kathmandu?</td>\n",
       "      <td>49.45</td>\n",
       "      <td>725</td>\n",
       "      <td>730</td>\n",
       "    </tr>\n",
       "  </tbody>\n",
       "</table>\n",
       "<p>2349 rows × 5 columns</p>\n",
       "</div>"
      ],
      "text/plain": [
       "                                                context  \\\n",
       "0     Beyoncé Giselle Knowles-Carter (/biːˈjɒnseɪ/ b...   \n",
       "1     Beyoncé Giselle Knowles-Carter (/biːˈjɒnseɪ/ b...   \n",
       "2     Beyoncé Giselle Knowles-Carter (/biːˈjɒnseɪ/ b...   \n",
       "3     Beyoncé Giselle Knowles-Carter (/biːˈjɒnseɪ/ b...   \n",
       "4     Beyoncé Giselle Knowles-Carter (/biːˈjɒnseɪ/ b...   \n",
       "...                                                 ...   \n",
       "2344  Kathmandu(/ˌkɑːtmɑːnˈduː/; Nepali pronunciatio...   \n",
       "2345  Kathmandu(/ˌkɑːtmɑːnˈduː/; Nepali pronunciatio...   \n",
       "2346  Kathmandu(/ˌkɑːtmɑːnˈduː/; Nepali pronunciatio...   \n",
       "2347  Kathmandu(/ˌkɑːtmɑːnˈduː/; Nepali pronunciatio...   \n",
       "2348  Kathmandu(/ˌkɑːtmɑːnˈduː/; Nepali pronunciatio...   \n",
       "\n",
       "                                               question  \\\n",
       "0              When did Beyonce start becoming popular?   \n",
       "1     What areas did Beyonce compete in when she was...   \n",
       "2     When did Beyonce leave Destiny's Child and bec...   \n",
       "3         In what city and state did Beyonce  grow up?    \n",
       "4            In which decade did Beyonce become famous?   \n",
       "...                                                 ...   \n",
       "2344          What country is Kathmandu the capital of?   \n",
       "2345           What does Upa-Mahanagar mean in English?   \n",
       "2346  Along with \"KTM,\" what is another nickname of ...   \n",
       "2347        How many people lived in Kathmandu in 2011?   \n",
       "2348   How many square kilometers in size is Kathmandu?   \n",
       "\n",
       "                     answer  str_idx  end_idx  \n",
       "0         in the late 1990s      269      286  \n",
       "1       singing and dancing      207      226  \n",
       "2                      2003      526      530  \n",
       "3            Houston, Texas      166      180  \n",
       "4                late 1990s      276      286  \n",
       "...                     ...      ...      ...  \n",
       "2344                  Nepal       27       32  \n",
       "2345  Sub-Metropolitan City      332      353  \n",
       "2346               tri-city      615      623  \n",
       "2347                975,453      704      711  \n",
       "2348                  49.45      725      730  \n",
       "\n",
       "[2349 rows x 5 columns]"
      ]
     },
     "execution_count": 68,
     "metadata": {},
     "output_type": "execute_result"
    }
   ],
   "source": [
    "data"
   ]
  },
  {
   "cell_type": "code",
   "execution_count": 71,
   "metadata": {},
   "outputs": [],
   "source": [
    "rows_to_drop = random.sample(range(len(data)), 849)"
   ]
  },
  {
   "cell_type": "code",
   "execution_count": 72,
   "metadata": {},
   "outputs": [],
   "source": [
    "data.drop(index=rows_to_drop, inplace=True)"
   ]
  },
  {
   "cell_type": "code",
   "execution_count": 73,
   "metadata": {},
   "outputs": [],
   "source": [
    "data.to_csv('data.csv', index=False)"
   ]
  },
  {
   "cell_type": "code",
   "execution_count": null,
   "metadata": {},
   "outputs": [],
   "source": []
  }
 ],
 "metadata": {
  "kernelspec": {
   "display_name": "base",
   "language": "python",
   "name": "python3"
  },
  "language_info": {
   "codemirror_mode": {
    "name": "ipython",
    "version": 3
   },
   "file_extension": ".py",
   "mimetype": "text/x-python",
   "name": "python",
   "nbconvert_exporter": "python",
   "pygments_lexer": "ipython3",
   "version": "3.11.4"
  }
 },
 "nbformat": 4,
 "nbformat_minor": 2
}
